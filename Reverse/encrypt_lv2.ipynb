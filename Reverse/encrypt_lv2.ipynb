{
 "cells": [
  {
   "cell_type": "code",
   "execution_count": 1,
   "id": "5118cb95",
   "metadata": {},
   "outputs": [],
   "source": [
    "import angr"
   ]
  },
  {
   "cell_type": "code",
   "execution_count": 21,
   "id": "17150661",
   "metadata": {},
   "outputs": [],
   "source": [
    "proj = angr.Project('/tmp/encrypt_level2')"
   ]
  },
  {
   "cell_type": "code",
   "execution_count": 3,
   "id": "67669b18",
   "metadata": {},
   "outputs": [],
   "source": [
    "import claripy"
   ]
  },
  {
   "cell_type": "code",
   "execution_count": 7,
   "id": "b5f72f2c",
   "metadata": {},
   "outputs": [],
   "source": [
    "input_len = 16"
   ]
  },
  {
   "cell_type": "code",
   "execution_count": 8,
   "id": "5ad86486",
   "metadata": {},
   "outputs": [],
   "source": [
    "flag_chars = [claripy.BVS(\"flags_{}\".format(i),8) for i in range(input_len)]"
   ]
  },
  {
   "cell_type": "code",
   "execution_count": 9,
   "id": "0cdaffa6",
   "metadata": {},
   "outputs": [],
   "source": [
    "flag = claripy.Concat(*flag_chars + [claripy.BVV(b'\\n')])"
   ]
  },
  {
   "cell_type": "code",
   "execution_count": 10,
   "id": "a5a72423",
   "metadata": {},
   "outputs": [
    {
     "data": {
      "text/plain": [
       "<BV136 flags_0_65_8 .. flags_1_66_8 .. flags_2_67_8 .. flags_3_68_8 .. flags_4_69_8 .. flags_5_70_8 .. flags_6_71_8 .. flags_7_72_8 .. flags_8_73_8 .. flags_9_74_8 .. flags_10_75_8 .. flags_11_76_8 .. flags_12_77_8 .. flags_13_78_8 .. flags_14_79_8 .. flags_15_80_8 .. 10>"
      ]
     },
     "execution_count": 10,
     "metadata": {},
     "output_type": "execute_result"
    }
   ],
   "source": [
    "flag"
   ]
  },
  {
   "cell_type": "code",
   "execution_count": 22,
   "id": "7c9938c4",
   "metadata": {},
   "outputs": [
    {
     "name": "stderr",
     "output_type": "stream",
     "text": [
      "WARNING | 2022-09-26 01:32:13,550 | angr.simos.simos | stdin is constrained to 17 bytes (has_end=True). If you are only providing the first 17 bytes instead of the entire stdin, please use stdin=SimFileStream(name='stdin', content=your_first_n_bytes, has_end=False).\n"
     ]
    }
   ],
   "source": [
    "state = proj.factory.full_init_state(add_options=angr.options.unicorn, stdin=flag)"
   ]
  },
  {
   "cell_type": "code",
   "execution_count": 23,
   "id": "727b2f00",
   "metadata": {},
   "outputs": [],
   "source": [
    "for k in flag_chars:\n",
    "    state.solver.add(k < 0x7f)\n",
    "    state.solver.add(k > 0x20)"
   ]
  },
  {
   "cell_type": "code",
   "execution_count": 24,
   "id": "1d62937a",
   "metadata": {},
   "outputs": [],
   "source": [
    "sm = proj.factory.simulation_manager(state)"
   ]
  },
  {
   "cell_type": "code",
   "execution_count": null,
   "id": "826bbbf7",
   "metadata": {},
   "outputs": [
    {
     "name": "stderr",
     "output_type": "stream",
     "text": [
      "WARNING | 2022-09-26 01:32:17,196 | angr.storage.memory_mixins.default_filler_mixin | Filling memory at 0x7fffffffffeff8c with 4 unconstrained bytes referenced from 0x45c680 (_rt0_amd64_linux+0x0 in encrypt_level3 (0x45c680))\n",
      "WARNING | 2022-09-26 01:32:17,379 | angr.state_plugins.posix | Trying to open unknown file b'/sys/kernel/mm/transparent_hugepage/hpage_pmd_size' - created a symbolic file since ALL_FILES_EXIST is set\n",
      "WARNING | 2022-09-26 01:32:17,548 | angr.state_plugins.posix | Trying to open unknown file b'/sys/kernel/mm/transparent_hugepage/hpage_pmd_size' - created a symbolic file since ALL_FILES_EXIST is set\n",
      "WARNING | 2022-09-26 01:32:17,860 | angr.state_plugins.posix | Trying to open unknown file b'/sys/kernel/mm/transparent_hugepage/hpage_pmd_size' - created a symbolic file since ALL_FILES_EXIST is set\n",
      "WARNING | 2022-09-26 01:32:18,245 | angr.state_plugins.posix | Trying to open unknown file b'/sys/kernel/mm/transparent_hugepage/hpage_pmd_size' - created a symbolic file since ALL_FILES_EXIST is set\n",
      "WARNING | 2022-09-26 01:32:18,742 | angr.state_plugins.posix | Trying to open unknown file b'/sys/kernel/mm/transparent_hugepage/hpage_pmd_size' - created a symbolic file since ALL_FILES_EXIST is set\n",
      "WARNING | 2022-09-26 01:32:19,391 | angr.state_plugins.posix | Trying to open unknown file b'/sys/kernel/mm/transparent_hugepage/hpage_pmd_size' - created a symbolic file since ALL_FILES_EXIST is set\n",
      "WARNING | 2022-09-26 01:32:20,640 | angr.state_plugins.posix | Trying to open unknown file b'/sys/kernel/mm/transparent_hugepage/hpage_pmd_size' - created a symbolic file since ALL_FILES_EXIST is set\n",
      "WARNING | 2022-09-26 01:32:23,241 | angr.state_plugins.posix | Trying to open unknown file b'/sys/kernel/mm/transparent_hugepage/hpage_pmd_size' - created a symbolic file since ALL_FILES_EXIST is set\n",
      "WARNING | 2022-09-26 01:32:28,864 | angr.state_plugins.posix | Trying to open unknown file b'/sys/kernel/mm/transparent_hugepage/hpage_pmd_size' - created a symbolic file since ALL_FILES_EXIST is set\n",
      "WARNING | 2022-09-26 01:32:46,424 | angr.state_plugins.posix | Trying to open unknown file b'/sys/kernel/mm/transparent_hugepage/hpage_pmd_size' - created a symbolic file since ALL_FILES_EXIST is set\n"
     ]
    }
   ],
   "source": [
    "sm.run()"
   ]
  },
  {
   "cell_type": "code",
   "execution_count": 18,
   "id": "4119d15e",
   "metadata": {},
   "outputs": [
    {
     "name": "stdout",
     "output_type": "stream",
     "text": [
      "b'Input your flag: Wrong!\\n'\n",
      "b'Input your flag: Wrong!\\n'\n",
      "b'Input your flag: Wrong!\\n'\n",
      "b'Input your flag: Wrong!\\n'\n",
      "b'Input your flag: Wrong!\\n'\n",
      "b'Input your flag: Wrong!\\n'\n",
      "b'Input your flag: Wrong!\\n'\n",
      "b'Input your flag: Wrong!\\n'\n",
      "b'Input your flag: Wrong!\\n'\n",
      "b'Input your flag: Wrong!\\n'\n",
      "b'Input your flag: Wrong!\\n'\n",
      "b'Input your flag: Wrong!\\n'\n",
      "b'Input your flag: Wrong!\\n'\n",
      "b'Input your flag: Wrong!\\n'\n",
      "b'Input your flag: Wrong!\\n'\n",
      "b'Input your flag: Wrong!\\n'\n",
      "b'Input your flag: Right!\\n'\n"
     ]
    }
   ],
   "source": [
    "y = []\n",
    "for x in sm.deadended:\n",
    "    print(x.posix.dumps(1))\n",
    "    if b'Right' in x.posix.dumps(1):\n",
    "        y.append(x)"
   ]
  },
  {
   "cell_type": "code",
   "execution_count": 20,
   "id": "355020d9",
   "metadata": {},
   "outputs": [
    {
     "data": {
      "text/plain": [
       "b'THUCTF{bd18f3b6}\\n'"
      ]
     },
     "execution_count": 20,
     "metadata": {},
     "output_type": "execute_result"
    }
   ],
   "source": [
    "y[0].posix.dumps(0)"
   ]
  },
  {
   "cell_type": "code",
   "execution_count": null,
   "id": "1f1307a7",
   "metadata": {},
   "outputs": [],
   "source": []
  }
 ],
 "metadata": {
  "kernelspec": {
   "display_name": "Python 3 (ipykernel)",
   "language": "python",
   "name": "python3"
  },
  "language_info": {
   "codemirror_mode": {
    "name": "ipython",
    "version": 3
   },
   "file_extension": ".py",
   "mimetype": "text/x-python",
   "name": "python",
   "nbconvert_exporter": "python",
   "pygments_lexer": "ipython3",
   "version": "3.10.6"
  }
 },
 "nbformat": 4,
 "nbformat_minor": 5
}
